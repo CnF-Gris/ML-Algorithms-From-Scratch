{
 "cells": [
  {
   "cell_type": "code",
   "execution_count": null,
   "metadata": {},
   "outputs": [],
   "source": [
    "import numpy\n",
    "import seaborn as sns\n",
    "from sklearn import datasets\n",
    "from sklearn.tree import DecisionTreeClassifier\n",
    "from sklearn.ensemble import RandomForestClassifier\n",
    "from sklearn.model_selection import GridSearchCV\n",
    "\n",
    "from src.Models.Logistic_Regression import Logistic_Regression\n",
    "\n",
    "[breast_X, breast_y] = datasets.load_breast_cancer(return_X_y=True)\n",
    "\n",
    "breast_X = numpy.array(breast_X[:,1:])\n",
    "print(breast_X)\n",
    "breast_X = numpy.insert(breast_X, 0, 1, axis=1)\n",
    "print(breast_X)\n",
    "print(breast_y)\n",
    "breast_y = numpy.array(breast_y)\n",
    "\n",
    "model = "
   ]
  }
 ],
 "metadata": {
  "language_info": {
   "name": "python"
  }
 },
 "nbformat": 4,
 "nbformat_minor": 2
}
